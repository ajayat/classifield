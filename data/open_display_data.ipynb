{
  "cells": [
    {
      "cell_type": "code",
      "execution_count": 2,
      "metadata": {
        "id": "AX9P5N9GwM6I"
      },
      "outputs": [],
      "source": [
        "import pandas as pd\n",
        "import numpy as np\n",
        "import matplotlib.pyplot as plt\n",
        "\n",
        "from pathlib import Path\n",
        "from sklearn.ensemble import RandomForestClassifier\n",
        "from sklearn.metrics import classification_report, confusion_matrix, balanced_accuracy_score, accuracy_score"
      ]
    },
    {
      "cell_type": "code",
      "execution_count": 3,
      "metadata": {
        "id": "JJOI2Ak8wM6J"
      },
      "outputs": [],
      "source": [
        "base_path = Path('v2/')\n",
        "\n",
        "\n",
        "\n",
        "X_train = np.load(base_path / 'train_images.npy').astype(np.float32)\n",
        "Y_train = np.load(base_path / 'train_labels.npy')\n",
        "\n",
        "X_test = np.load(base_path / 'test_public_images.npy').astype(np.float32)\n",
        "Y_test = np.load(base_path / 'test_public_labels.npy')\n",
        "\n",
        "classes, counts = np.unique(Y_train, return_counts=True)\n",
        "counts_test = np.unique(Y_test, return_counts=True)[1]"
      ]
    },
    {
      "cell_type": "code",
      "execution_count": null,
      "metadata": {
        "id": "XGXhDtTHwM6J",
        "outputId": "adc23266-a2c5-4f2b-a3a9-c809f816c3b7"
      },
      "outputs": [],
      "source": [
        "classes_names = [\n",
        "    \"Avoine d'hiver\",\n",
        "    \"Avoine de printemps\",\n",
        "    \"Blé tendre d'hiver\",\n",
        "    \"Blé tendre de printemps\",\n",
        "    \"Colza d'hiver\",\n",
        "    \"Luzerne déshydratée\",\n",
        "    \"Luzerne\",\n",
        "    \"Mélange de légumineuses et graminées\",\n",
        "    \"Maïs\",\n",
        "    \"Maïs ensilage\",\n",
        "    \"Orge d'hiver\",\n",
        "    \"Orge de printemps\",\n",
        "    \"Prairie permanente - herbe\",\n",
        "    \"Prairie permanente - ressources fourragères ligneuses\",\n",
        "    \"Prairie en rotation longue\",\n",
        "    \"Pomme de terre de consommation\",\n",
        "    \"Prairie temporaire\",\n",
        "    \"Soja\",\n",
        "    \"Tournesol\",\n",
        "    \"Triticale d'hiver\"\n",
        "]\n",
        "months = ['Feb', 'Mar', 'Apr', 'May', 'Jun', 'Jul', 'Aug', 'Sep', 'Oct', 'Nov']\n",
        "\n",
        "print(f'Each {X_train.shape[0]} training and {X_test.shape[0]} test samples have :\\n'\n",
        "      f'\\t{X_train.shape[1]} images (one per month from Feb to Nov)\\n'\n",
        "      f'\\t{X_train.shape[2]} channels (B08 Near Infrared, B04 Red, B03 Green)\\n'\n",
        "      f'\\t{X_train.shape[3]} x {X_train.shape[4]} pixels')\n",
        "print(f'X_train shape: {X_train.shape}, Y_train shape: {Y_train.shape}')\n",
        "print(f'X_test shape: {X_test.shape}, Y_test shape: {Y_test.shape}')\n",
        "\n",
        "classes_df = pd.DataFrame({\n",
        "    'Class Name': classes_names,\n",
        "    'N Samples in Train': counts,\n",
        "    'N Samples in Test': counts_test,\n",
        "    'Frequency in Train': counts / counts.sum(),\n",
        "    'Frequency in Test': counts_test / counts_test.sum()\n",
        "},index=classes)\n",
        "\n",
        "classes_df"
      ]
    },
    {
      "cell_type": "code",
      "execution_count": null,
      "metadata": {
        "id": "wx6iVosJwM6K",
        "outputId": "1d5f5369-0193-4b2d-f092-50e0d841ba86"
      },
      "outputs": [],
      "source": [
        "def display_sample(X, Y, sample, grid_shape=(1, 10), size=2):\n",
        "    x = X[sample].copy()\n",
        "    y = Y[sample].copy()\n",
        "\n",
        "    n_rows, n_cols = grid_shape\n",
        "    n_images = x.shape[0]\n",
        "\n",
        "    fig, axes = plt.subplots(n_rows, n_cols, figsize=(size*n_cols, size*n_rows + 1))\n",
        "    if n_rows == 1:\n",
        "        axes = axes.reshape(1, -1)\n",
        "\n",
        "    img = x.transpose(0, 2, 3, 1)\n",
        "    # Normalize each channel independently\n",
        "    for channel in range(img.shape[-1]):\n",
        "        img_ch = img[..., channel]\n",
        "        img_min = img_ch.min()\n",
        "        img_max = img_ch.max()\n",
        "        img[..., channel] = (img_ch - img_min) / (img_max - img_min)\n",
        "    img = img.clip(0, 1)\n",
        "\n",
        "    for i in range(n_images):\n",
        "        row = i // n_cols\n",
        "        col = i % n_cols\n",
        "        axes[row, col].imshow(img[i])\n",
        "        axes[row, col].axis('off')\n",
        "        axes[row, col].set_title(f'{months[i]}')\n",
        "\n",
        "    # Hide empty subplots if any\n",
        "    for i in range(n_images, n_rows * n_cols):\n",
        "        row = i // n_cols\n",
        "        col = i % n_cols\n",
        "        axes[row, col].axis('off')\n",
        "\n",
        "    fig.suptitle(f'Sample {sample} - Class {classes_names[y]}')\n",
        "    plt.tight_layout()\n",
        "    plt.show()\n",
        "\n",
        "def get_random_sample_of_class(X, Y, class_idx):\n",
        "    \"\"\"Get a random sample from a specific class\"\"\"\n",
        "    class_indices = np.where(Y == class_idx)[0]\n",
        "    random_idx = np.random.choice(class_indices)\n",
        "    return random_idx\n",
        "\n",
        "for i in [get_random_sample_of_class(X_train, Y_train, i//2) for i in range(len(classes)*2)]:\n",
        "    display_sample(X_train, Y_train, i)"
      ]
    }
  ],
  "metadata": {
    "colab": {
      "provenance": []
    },
    "kernelspec": {
      "display_name": ".venv",
      "language": "python",
      "name": "python3"
    },
    "language_info": {
      "codemirror_mode": {
        "name": "ipython",
        "version": 3
      },
      "file_extension": ".py",
      "mimetype": "text/x-python",
      "name": "python",
      "nbconvert_exporter": "python",
      "pygments_lexer": "ipython3",
      "version": "3.13.1"
    }
  },
  "nbformat": 4,
  "nbformat_minor": 0
}
