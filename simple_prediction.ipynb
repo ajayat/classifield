{
  "cells": [
    {
      "cell_type": "code",
      "execution_count": 8,
      "metadata": {
        "id": "AX9P5N9GwM6I"
      },
      "outputs": [],
      "source": [
        "import pandas as pd\n",
        "import numpy as np\n",
        "import matplotlib.pyplot as plt\n",
        "\n",
        "from pathlib import Path\n",
        "from sklearn.ensemble import RandomForestClassifier\n",
        "from sklearn.metrics import classification_report, confusion_matrix, balanced_accuracy_score, accuracy_score"
      ]
    },
    {
      "cell_type": "code",
      "execution_count": 3,
      "metadata": {
        "colab": {
          "base_uri": "https://localhost:8080/",
          "height": 367
        },
        "id": "JJOI2Ak8wM6J",
        "outputId": "778a3f5f-4d36-4c35-bdd1-2f6d0f021419"
      },
      "outputs": [],
      "source": [
        "base_path = Path('data/v2/')\n",
        "\n",
        "X_train = np.load(base_path / 'train_images.npy').astype(np.float32)\n",
        "Y_train = np.load(base_path / 'train_labels.npy')\n",
        "\n",
        "X_test = np.load(base_path / 'test_public_images.npy').astype(np.float32)\n",
        "Y_test = np.load(base_path / 'test_public_labels.npy')\n",
        "\n",
        "classes, counts = np.unique(Y_train, return_counts=True)\n",
        "counts_test = np.unique(Y_test, return_counts=True)[1]"
      ]
    },
    {
      "cell_type": "code",
      "execution_count": 4,
      "metadata": {
        "colab": {
          "base_uri": "https://localhost:8080/",
          "height": 217
        },
        "id": "XGXhDtTHwM6J",
        "outputId": "757576be-b6ea-408a-929d-93a07d3747c0"
      },
      "outputs": [
        {
          "name": "stdout",
          "output_type": "stream",
          "text": [
            "Each 10000 training and 2500 test samples have :\n",
            "\t10 images (one per month from Feb to Nov)\n",
            "\t3 channels (B08 Near Infrared, B04 Red, B03 Green)\n",
            "\t32 x 32 pixels\n",
            "X_train shape: (10000, 10, 3, 32, 32), Y_train shape: (10000,)\n",
            "X_test shape: (2500, 10, 3, 32, 32), Y_test shape: (2500,)\n"
          ]
        }
      ],
      "source": [
        "classes_names = [\n",
        "    \"Avoine d'hiver\",\n",
        "    \"Avoine de printemps\",\n",
        "    \"Blé tendre d'hiver\",\n",
        "    \"Blé tendre de printemps\",\n",
        "    \"Colza d'hiver\",\n",
        "    \"Luzerne déshydratée\",\n",
        "    \"Luzerne\",\n",
        "    \"Mélange de légumineuses et graminées\",\n",
        "    \"Maïs\",\n",
        "    \"Maïs ensilage\",\n",
        "    \"Orge d'hiver\",\n",
        "    \"Orge de printemps\",\n",
        "    \"Prairie permanente - herbe\",\n",
        "    \"Prairie permanente - ressources fourragères ligneuses\",\n",
        "    \"Prairie en rotation longue\",\n",
        "    \"Pomme de terre de consommation\",\n",
        "    \"Prairie temporaire\",\n",
        "    \"Soja\",\n",
        "    \"Tournesol\",\n",
        "    \"Triticale d'hiver\"\n",
        "]\n",
        "months = ['Feb', 'Mar', 'Apr', 'May', 'Jun', 'Jul', 'Aug', 'Sep', 'Oct', 'Nov']\n",
        "\n",
        "print(f'Each {X_train.shape[0]} training and {X_test.shape[0]} test samples have :\\n'\n",
        "      f'\\t{X_train.shape[1]} images (one per month from Feb to Nov)\\n'\n",
        "      f'\\t{X_train.shape[2]} channels (B08 Near Infrared, B04 Red, B03 Green)\\n'\n",
        "      f'\\t{X_train.shape[3]} x {X_train.shape[4]} pixels')\n",
        "print(f'X_train shape: {X_train.shape}, Y_train shape: {Y_train.shape}')\n",
        "print(f'X_test shape: {X_test.shape}, Y_test shape: {Y_test.shape}')\n",
        "\n",
        "classes_df = pd.DataFrame({\n",
        "    'Class Name': classes_names,\n",
        "    'N Samples in Train': counts,\n",
        "    'N Samples in Test': counts_test,\n",
        "    'Frequency in Train': counts / counts.sum(),\n",
        "    'Frequency in Test': counts_test / counts_test.sum()\n",
        "},index=classes)\n"
      ]
    },
    {
      "cell_type": "code",
      "execution_count": 5,
      "metadata": {
        "colab": {
          "base_uri": "https://localhost:8080/",
          "height": 217
        },
        "id": "hOMaqKyzDfBS",
        "outputId": "cb3f37c1-d90d-4558-83aa-815197f09da1"
      },
      "outputs": [
        {
          "name": "stdout",
          "output_type": "stream",
          "text": [
            "   sample_id  month            R            G            B\n",
            "0          0      0  2815.662109  2280.853271  1920.013916\n",
            "1          0      1  3364.649414  2543.026611  2010.343506\n",
            "2          0      2  3690.846680  2437.498291  1626.443115\n",
            "3          0      3  4328.185059  2770.220215  1770.037842\n",
            "4          0      4  3982.349365  3261.173828  2689.330078\n",
            "   sample_id  month            R            G            B\n",
            "0          0      0  2967.741211  2450.070312  2069.227295\n",
            "1          0      1  4040.710205  3004.723145  2310.290527\n",
            "2          0      2  4199.181641  2742.998047  1798.129150\n",
            "3          0      3  4001.596191  2627.909180  1729.434082\n",
            "4          0      4  3500.541504  2884.736816  2385.992920\n"
          ]
        }
      ],
      "source": [
        "import pandas as pd\n",
        "import numpy as np\n",
        "from scipy.ndimage import gaussian_filter\n",
        "\n",
        "def create_simplified_dataset(X_data):\n",
        "\n",
        "    simplified_data = []\n",
        "    for sample_idx in range(X_data.shape[0]):\n",
        "        for month_idx in range(X_data.shape[1]):\n",
        "            image = X_data[sample_idx, month_idx, :, :, :]\n",
        "            filtered_image = gaussian_filter(image, sigma=1)\n",
        "            avg_rgb = np.mean(filtered_image, axis=(1, 2))\n",
        "            simplified_data.append({\n",
        "              'sample_id':sample_idx,\n",
        "              'month':month_idx,\n",
        "              'R': avg_rgb[0],\n",
        "              'G': avg_rgb[1],\n",
        "              'B': avg_rgb[2]\n",
        "            })\n",
        "\n",
        "    return pd.DataFrame(simplified_data)\n",
        "\n",
        "\n",
        "simplified_train_df = create_simplified_dataset(X_train)\n",
        "print(simplified_train_df.head())\n",
        "\n",
        "simplified_test_df = create_simplified_dataset(X_test)\n",
        "print(simplified_test_df.head())"
      ]
    },
    {
      "cell_type": "code",
      "execution_count": null,
      "metadata": {
        "id": "gQVnv_xnjBpJ"
      },
      "outputs": [
        {
          "data": {
            "text/html": [
              "<pre style=\"white-space:pre;overflow-x:auto;line-height:normal;font-family:Menlo,'DejaVu Sans Mono',consolas,'Courier New',monospace\"><span style=\"font-weight: bold\">Model: \"sequential_4\"</span>\n",
              "</pre>\n"
            ],
            "text/plain": [
              "\u001b[1mModel: \"sequential_4\"\u001b[0m\n"
            ]
          },
          "metadata": {},
          "output_type": "display_data"
        },
        {
          "data": {
            "text/html": [
              "<pre style=\"white-space:pre;overflow-x:auto;line-height:normal;font-family:Menlo,'DejaVu Sans Mono',consolas,'Courier New',monospace\">┏━━━━━━━━━━━━━━━━━━━━━━━━━━━━━━━━━┳━━━━━━━━━━━━━━━━━━━━━━━━┳━━━━━━━━━━━━━━━┓\n",
              "┃<span style=\"font-weight: bold\"> Layer (type)                    </span>┃<span style=\"font-weight: bold\"> Output Shape           </span>┃<span style=\"font-weight: bold\">       Param # </span>┃\n",
              "┡━━━━━━━━━━━━━━━━━━━━━━━━━━━━━━━━━╇━━━━━━━━━━━━━━━━━━━━━━━━╇━━━━━━━━━━━━━━━┩\n",
              "│ flatten_4 (<span style=\"color: #0087ff; text-decoration-color: #0087ff\">Flatten</span>)             │ (<span style=\"color: #00d7ff; text-decoration-color: #00d7ff\">None</span>, <span style=\"color: #00af00; text-decoration-color: #00af00\">30</span>)             │             <span style=\"color: #00af00; text-decoration-color: #00af00\">0</span> │\n",
              "├─────────────────────────────────┼────────────────────────┼───────────────┤\n",
              "│ dense_9 (<span style=\"color: #0087ff; text-decoration-color: #0087ff\">Dense</span>)                 │ (<span style=\"color: #00d7ff; text-decoration-color: #00d7ff\">None</span>, <span style=\"color: #00af00; text-decoration-color: #00af00\">128</span>)            │         <span style=\"color: #00af00; text-decoration-color: #00af00\">3,968</span> │\n",
              "├─────────────────────────────────┼────────────────────────┼───────────────┤\n",
              "│ dense_10 (<span style=\"color: #0087ff; text-decoration-color: #0087ff\">Dense</span>)                │ (<span style=\"color: #00d7ff; text-decoration-color: #00d7ff\">None</span>, <span style=\"color: #00af00; text-decoration-color: #00af00\">128</span>)            │        <span style=\"color: #00af00; text-decoration-color: #00af00\">16,512</span> │\n",
              "├─────────────────────────────────┼────────────────────────┼───────────────┤\n",
              "│ dense_11 (<span style=\"color: #0087ff; text-decoration-color: #0087ff\">Dense</span>)                │ (<span style=\"color: #00d7ff; text-decoration-color: #00d7ff\">None</span>, <span style=\"color: #00af00; text-decoration-color: #00af00\">20</span>)             │         <span style=\"color: #00af00; text-decoration-color: #00af00\">2,580</span> │\n",
              "└─────────────────────────────────┴────────────────────────┴───────────────┘\n",
              "</pre>\n"
            ],
            "text/plain": [
              "┏━━━━━━━━━━━━━━━━━━━━━━━━━━━━━━━━━┳━━━━━━━━━━━━━━━━━━━━━━━━┳━━━━━━━━━━━━━━━┓\n",
              "┃\u001b[1m \u001b[0m\u001b[1mLayer (type)                   \u001b[0m\u001b[1m \u001b[0m┃\u001b[1m \u001b[0m\u001b[1mOutput Shape          \u001b[0m\u001b[1m \u001b[0m┃\u001b[1m \u001b[0m\u001b[1m      Param #\u001b[0m\u001b[1m \u001b[0m┃\n",
              "┡━━━━━━━━━━━━━━━━━━━━━━━━━━━━━━━━━╇━━━━━━━━━━━━━━━━━━━━━━━━╇━━━━━━━━━━━━━━━┩\n",
              "│ flatten_4 (\u001b[38;5;33mFlatten\u001b[0m)             │ (\u001b[38;5;45mNone\u001b[0m, \u001b[38;5;34m30\u001b[0m)             │             \u001b[38;5;34m0\u001b[0m │\n",
              "├─────────────────────────────────┼────────────────────────┼───────────────┤\n",
              "│ dense_9 (\u001b[38;5;33mDense\u001b[0m)                 │ (\u001b[38;5;45mNone\u001b[0m, \u001b[38;5;34m128\u001b[0m)            │         \u001b[38;5;34m3,968\u001b[0m │\n",
              "├─────────────────────────────────┼────────────────────────┼───────────────┤\n",
              "│ dense_10 (\u001b[38;5;33mDense\u001b[0m)                │ (\u001b[38;5;45mNone\u001b[0m, \u001b[38;5;34m128\u001b[0m)            │        \u001b[38;5;34m16,512\u001b[0m │\n",
              "├─────────────────────────────────┼────────────────────────┼───────────────┤\n",
              "│ dense_11 (\u001b[38;5;33mDense\u001b[0m)                │ (\u001b[38;5;45mNone\u001b[0m, \u001b[38;5;34m20\u001b[0m)             │         \u001b[38;5;34m2,580\u001b[0m │\n",
              "└─────────────────────────────────┴────────────────────────┴───────────────┘\n"
            ]
          },
          "metadata": {},
          "output_type": "display_data"
        },
        {
          "data": {
            "text/html": [
              "<pre style=\"white-space:pre;overflow-x:auto;line-height:normal;font-family:Menlo,'DejaVu Sans Mono',consolas,'Courier New',monospace\"><span style=\"font-weight: bold\"> Total params: </span><span style=\"color: #00af00; text-decoration-color: #00af00\">23,060</span> (90.08 KB)\n",
              "</pre>\n"
            ],
            "text/plain": [
              "\u001b[1m Total params: \u001b[0m\u001b[38;5;34m23,060\u001b[0m (90.08 KB)\n"
            ]
          },
          "metadata": {},
          "output_type": "display_data"
        },
        {
          "data": {
            "text/html": [
              "<pre style=\"white-space:pre;overflow-x:auto;line-height:normal;font-family:Menlo,'DejaVu Sans Mono',consolas,'Courier New',monospace\"><span style=\"font-weight: bold\"> Trainable params: </span><span style=\"color: #00af00; text-decoration-color: #00af00\">23,060</span> (90.08 KB)\n",
              "</pre>\n"
            ],
            "text/plain": [
              "\u001b[1m Trainable params: \u001b[0m\u001b[38;5;34m23,060\u001b[0m (90.08 KB)\n"
            ]
          },
          "metadata": {},
          "output_type": "display_data"
        },
        {
          "data": {
            "text/html": [
              "<pre style=\"white-space:pre;overflow-x:auto;line-height:normal;font-family:Menlo,'DejaVu Sans Mono',consolas,'Courier New',monospace\"><span style=\"font-weight: bold\"> Non-trainable params: </span><span style=\"color: #00af00; text-decoration-color: #00af00\">0</span> (0.00 B)\n",
              "</pre>\n"
            ],
            "text/plain": [
              "\u001b[1m Non-trainable params: \u001b[0m\u001b[38;5;34m0\u001b[0m (0.00 B)\n"
            ]
          },
          "metadata": {},
          "output_type": "display_data"
        }
      ],
      "source": [
        "import tensorflow as tf\n",
        "\n",
        "\n",
        "model = tf.keras.models.Sequential([\n",
        "  tf.keras.layers.Flatten(input_shape=(30,)),\n",
        "  tf.keras.layers.Dense(128, activation='leaky_relu'),\n",
        "  tf.keras.layers.Dense(20, activation='softmax')\n",
        "])\n",
        "\n",
        "\n",
        "model.compile(optimizer='adam',\n",
        "              loss='sparse_categorical_crossentropy',\n",
        "              metrics=['accuracy'])\n",
        "\n",
        "\n",
        "model.summary()"
      ]
    },
    {
      "cell_type": "code",
      "execution_count": 20,
      "metadata": {
        "id": "LS9L_deIl62H"
      },
      "outputs": [
        {
          "name": "stdout",
          "output_type": "stream",
          "text": [
            "X_train_nn shape: (10000, 30), Y_train shape: (10000,)\n",
            "Epoch 1/10\n",
            "\u001b[1m313/313\u001b[0m \u001b[32m━━━━━━━━━━━━━━━━━━━━\u001b[0m\u001b[37m\u001b[0m \u001b[1m1s\u001b[0m 932us/step - accuracy: 0.3385 - loss: 337.5905\n",
            "Epoch 2/10\n",
            "\u001b[1m313/313\u001b[0m \u001b[32m━━━━━━━━━━━━━━━━━━━━\u001b[0m\u001b[37m\u001b[0m \u001b[1m0s\u001b[0m 930us/step - accuracy: 0.5567 - loss: 36.1836\n",
            "Epoch 3/10\n",
            "\u001b[1m313/313\u001b[0m \u001b[32m━━━━━━━━━━━━━━━━━━━━\u001b[0m\u001b[37m\u001b[0m \u001b[1m0s\u001b[0m 979us/step - accuracy: 0.6086 - loss: 23.5664\n",
            "Epoch 4/10\n",
            "\u001b[1m313/313\u001b[0m \u001b[32m━━━━━━━━━━━━━━━━━━━━\u001b[0m\u001b[37m\u001b[0m \u001b[1m0s\u001b[0m 1ms/step - accuracy: 0.6274 - loss: 18.1901  \n",
            "Epoch 5/10\n",
            "\u001b[1m313/313\u001b[0m \u001b[32m━━━━━━━━━━━━━━━━━━━━\u001b[0m\u001b[37m\u001b[0m \u001b[1m0s\u001b[0m 959us/step - accuracy: 0.6345 - loss: 16.3684\n",
            "Epoch 6/10\n",
            "\u001b[1m313/313\u001b[0m \u001b[32m━━━━━━━━━━━━━━━━━━━━\u001b[0m\u001b[37m\u001b[0m \u001b[1m0s\u001b[0m 974us/step - accuracy: 0.6443 - loss: 13.4013\n",
            "Epoch 7/10\n",
            "\u001b[1m313/313\u001b[0m \u001b[32m━━━━━━━━━━━━━━━━━━━━\u001b[0m\u001b[37m\u001b[0m \u001b[1m0s\u001b[0m 945us/step - accuracy: 0.6608 - loss: 11.2292\n",
            "Epoch 8/10\n",
            "\u001b[1m313/313\u001b[0m \u001b[32m━━━━━━━━━━━━━━━━━━━━\u001b[0m\u001b[37m\u001b[0m \u001b[1m0s\u001b[0m 970us/step - accuracy: 0.6708 - loss: 9.0264\n",
            "Epoch 9/10\n",
            "\u001b[1m313/313\u001b[0m \u001b[32m━━━━━━━━━━━━━━━━━━━━\u001b[0m\u001b[37m\u001b[0m \u001b[1m0s\u001b[0m 971us/step - accuracy: 0.6669 - loss: 8.5619\n",
            "Epoch 10/10\n",
            "\u001b[1m313/313\u001b[0m \u001b[32m━━━━━━━━━━━━━━━━━━━━\u001b[0m\u001b[37m\u001b[0m \u001b[1m0s\u001b[0m 973us/step - accuracy: 0.6857 - loss: 6.4765\n"
          ]
        },
        {
          "data": {
            "text/plain": [
              "<keras.src.callbacks.history.History at 0x757208405450>"
            ]
          },
          "execution_count": 20,
          "metadata": {},
          "output_type": "execute_result"
        }
      ],
      "source": [
        "from sklearn.metrics import classification_report, balanced_accuracy_score\n",
        "\n",
        "# Préparation des données\n",
        "X_train_nn = simplified_train_df.drop(columns=['sample_id', 'month']).values.reshape(-1, 10, 3)\n",
        "X_test_nn = simplified_test_df.drop(columns=['sample_id', 'month']).values.reshape(-1, 10, 3)\n",
        "\n",
        "# Aplatir les données pour le modèle dense\n",
        "X_train_nn = X_train_nn.reshape(X_train_nn.shape[0], -1)  # Résultat : (10000, 30)\n",
        "X_test_nn = X_test_nn.reshape(X_test_nn.shape[0], -1)    # Résultat : (N_test, 30)\n",
        "\n",
        "print(f'X_train_nn shape: {X_train_nn.shape}, Y_train shape: {Y_train.shape}')\n",
        "\n",
        "# Compilation du modèle\n",
        "model.compile(optimizer='adam', loss='sparse_categorical_crossentropy', metrics=['accuracy'])\n",
        "\n",
        "# Entraînement\n",
        "model.fit(X_train_nn, Y_train, epochs=10)\n"
      ]
    },
    {
      "cell_type": "code",
      "execution_count": 21,
      "metadata": {},
      "outputs": [
        {
          "name": "stdout",
          "output_type": "stream",
          "text": [
            "Test Loss: 14.2492\n",
            "Test Accuracy: 0.4716\n",
            "\u001b[1m79/79\u001b[0m \u001b[32m━━━━━━━━━━━━━━━━━━━━\u001b[0m\u001b[37m\u001b[0m \u001b[1m0s\u001b[0m 922us/step\n",
            "Balanced Accuracy: 0.2859\n",
            "              precision    recall  f1-score   support\n",
            "\n",
            "           0       0.00      0.00      0.00        11\n",
            "           1       0.00      0.00      0.00         4\n",
            "           2       0.64      0.43      0.51       781\n",
            "           3       0.56      0.85      0.67       108\n",
            "           4       1.00      0.49      0.66       225\n",
            "           5       0.53      0.74      0.62        39\n",
            "           6       0.00      0.00      0.00        36\n",
            "           7       0.14      0.36      0.20        84\n",
            "           8       0.36      0.44      0.40       116\n",
            "           9       0.00      0.00      0.00        11\n",
            "          10       0.27      0.75      0.39       265\n",
            "          11       0.61      0.17      0.27       235\n",
            "          12       0.77      0.94      0.85       266\n",
            "          13       1.00      0.10      0.18        41\n",
            "          14       0.00      0.00      0.00        40\n",
            "          15       0.16      0.23      0.19        44\n",
            "          16       0.00      0.00      0.00        25\n",
            "          17       0.00      0.00      0.00        38\n",
            "          18       0.74      0.21      0.32       120\n",
            "          19       0.00      0.00      0.00        11\n",
            "\n",
            "    accuracy                           0.47      2500\n",
            "   macro avg       0.34      0.29      0.26      2500\n",
            "weighted avg       0.57      0.47      0.46      2500\n",
            "\n"
          ]
        },
        {
          "name": "stderr",
          "output_type": "stream",
          "text": [
            "/home/edepoix/Documents/TPS/TPS 2A/Science des données et apprentissage/Projet classification/venv/lib/python3.11/site-packages/sklearn/metrics/_classification.py:1565: UndefinedMetricWarning: Precision is ill-defined and being set to 0.0 in labels with no predicted samples. Use `zero_division` parameter to control this behavior.\n",
            "  _warn_prf(average, modifier, f\"{metric.capitalize()} is\", len(result))\n",
            "/home/edepoix/Documents/TPS/TPS 2A/Science des données et apprentissage/Projet classification/venv/lib/python3.11/site-packages/sklearn/metrics/_classification.py:1565: UndefinedMetricWarning: Precision is ill-defined and being set to 0.0 in labels with no predicted samples. Use `zero_division` parameter to control this behavior.\n",
            "  _warn_prf(average, modifier, f\"{metric.capitalize()} is\", len(result))\n",
            "/home/edepoix/Documents/TPS/TPS 2A/Science des données et apprentissage/Projet classification/venv/lib/python3.11/site-packages/sklearn/metrics/_classification.py:1565: UndefinedMetricWarning: Precision is ill-defined and being set to 0.0 in labels with no predicted samples. Use `zero_division` parameter to control this behavior.\n",
            "  _warn_prf(average, modifier, f\"{metric.capitalize()} is\", len(result))\n"
          ]
        }
      ],
      "source": [
        "# Évaluation du modèle\n",
        "loss, accuracy = model.evaluate(X_test_nn, Y_test, verbose=0)\n",
        "print(f\"Test Loss: {loss:.4f}\")\n",
        "print(f\"Test Accuracy: {accuracy:.4f}\")\n",
        "\n",
        "# Prédictions\n",
        "Y_pred = np.argmax(model.predict(X_test_nn), axis=1)\n",
        "\n",
        "# Calcul de la balanced accuracy\n",
        "balanced_acc = balanced_accuracy_score(Y_test, Y_pred)\n",
        "print(f\"Balanced Accuracy: {balanced_acc:.4f}\")\n",
        "\n",
        "# Rapport de classification\n",
        "print(classification_report(Y_test, Y_pred))"
      ]
    }
  ],
  "metadata": {
    "colab": {
      "provenance": []
    },
    "kernelspec": {
      "display_name": "venv",
      "language": "python",
      "name": "python3"
    },
    "language_info": {
      "codemirror_mode": {
        "name": "ipython",
        "version": 3
      },
      "file_extension": ".py",
      "mimetype": "text/x-python",
      "name": "python",
      "nbconvert_exporter": "python",
      "pygments_lexer": "ipython3",
      "version": "3.11.11"
    }
  },
  "nbformat": 4,
  "nbformat_minor": 0
}
