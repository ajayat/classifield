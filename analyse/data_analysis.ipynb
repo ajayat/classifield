{
 "cells": [
  {
   "cell_type": "code",
   "execution_count": 1,
   "metadata": {},
   "outputs": [],
   "source": [
    "import pandas as pd\n",
    "import numpy as np\n",
    "import matplotlib.pyplot as plt\n",
    "\n",
    "from pathlib import Path\n",
    "from sklearn.ensemble import RandomForestClassifier\n",
    "from sklearn.metrics import classification_report, confusion_matrix, balanced_accuracy_score, accuracy_score\n"
   ]
  },
  {
   "cell_type": "code",
   "execution_count": 5,
   "metadata": {},
   "outputs": [
    {
     "name": "stdout",
     "output_type": "stream",
     "text": [
      "classifield/data/v2\n"
     ]
    },
    {
     "ename": "FileNotFoundError",
     "evalue": "[Errno 2] No such file or directory: 'classifield/data/v2/train_images.npy'",
     "output_type": "error",
     "traceback": [
      "\u001b[0;31m---------------------------------------------------------------------------\u001b[0m",
      "\u001b[0;31mFileNotFoundError\u001b[0m                         Traceback (most recent call last)",
      "Cell \u001b[0;32mIn[5], line 4\u001b[0m\n\u001b[1;32m      1\u001b[0m base_path \u001b[38;5;241m=\u001b[39m Path(\u001b[38;5;124m'\u001b[39m\u001b[38;5;124mclassifield/data/v2\u001b[39m\u001b[38;5;124m'\u001b[39m)\n\u001b[1;32m      2\u001b[0m \u001b[38;5;28mprint\u001b[39m(base_path)\n\u001b[0;32m----> 4\u001b[0m X_train \u001b[38;5;241m=\u001b[39m \u001b[43mnp\u001b[49m\u001b[38;5;241;43m.\u001b[39;49m\u001b[43mload\u001b[49m\u001b[43m(\u001b[49m\u001b[43mbase_path\u001b[49m\u001b[43m \u001b[49m\u001b[38;5;241;43m/\u001b[39;49m\u001b[43m \u001b[49m\u001b[38;5;124;43m'\u001b[39;49m\u001b[38;5;124;43mtrain_images.npy\u001b[39;49m\u001b[38;5;124;43m'\u001b[39;49m\u001b[43m)\u001b[49m\u001b[38;5;241m.\u001b[39mastype(np\u001b[38;5;241m.\u001b[39mfloat32)\n\u001b[1;32m      5\u001b[0m Y_train \u001b[38;5;241m=\u001b[39m np\u001b[38;5;241m.\u001b[39mload(base_path \u001b[38;5;241m/\u001b[39m \u001b[38;5;124m'\u001b[39m\u001b[38;5;124mtrain_labels.npy\u001b[39m\u001b[38;5;124m'\u001b[39m)\n\u001b[1;32m      7\u001b[0m X_test \u001b[38;5;241m=\u001b[39m np\u001b[38;5;241m.\u001b[39mload(base_path \u001b[38;5;241m/\u001b[39m \u001b[38;5;124m'\u001b[39m\u001b[38;5;124mtest_public_images.npy\u001b[39m\u001b[38;5;124m'\u001b[39m)\u001b[38;5;241m.\u001b[39mastype(np\u001b[38;5;241m.\u001b[39mfloat32)\n",
      "File \u001b[0;32m~/Documents/TPS/TPS 2A/Science des données et apprentissage/Projet classification/.venv/lib/python3.13/site-packages/numpy/lib/_npyio_impl.py:451\u001b[0m, in \u001b[0;36mload\u001b[0;34m(file, mmap_mode, allow_pickle, fix_imports, encoding, max_header_size)\u001b[0m\n\u001b[1;32m    449\u001b[0m     own_fid \u001b[38;5;241m=\u001b[39m \u001b[38;5;28;01mFalse\u001b[39;00m\n\u001b[1;32m    450\u001b[0m \u001b[38;5;28;01melse\u001b[39;00m:\n\u001b[0;32m--> 451\u001b[0m     fid \u001b[38;5;241m=\u001b[39m stack\u001b[38;5;241m.\u001b[39menter_context(\u001b[38;5;28;43mopen\u001b[39;49m\u001b[43m(\u001b[49m\u001b[43mos\u001b[49m\u001b[38;5;241;43m.\u001b[39;49m\u001b[43mfspath\u001b[49m\u001b[43m(\u001b[49m\u001b[43mfile\u001b[49m\u001b[43m)\u001b[49m\u001b[43m,\u001b[49m\u001b[43m \u001b[49m\u001b[38;5;124;43m\"\u001b[39;49m\u001b[38;5;124;43mrb\u001b[39;49m\u001b[38;5;124;43m\"\u001b[39;49m\u001b[43m)\u001b[49m)\n\u001b[1;32m    452\u001b[0m     own_fid \u001b[38;5;241m=\u001b[39m \u001b[38;5;28;01mTrue\u001b[39;00m\n\u001b[1;32m    454\u001b[0m \u001b[38;5;66;03m# Code to distinguish from NumPy binary files and pickles.\u001b[39;00m\n",
      "\u001b[0;31mFileNotFoundError\u001b[0m: [Errno 2] No such file or directory: 'classifield/data/v2/train_images.npy'"
     ]
    }
   ],
   "source": [
    "base_path = Path('classifield/data/v2')\n",
    "print(base_path)\n",
    "\n",
    "X_train = np.load(base_path / 'train_images.npy').astype(np.float32)\n",
    "Y_train = np.load(base_path / 'train_labels.npy')\n",
    "\n",
    "X_test = np.load(base_path / 'test_public_images.npy').astype(np.float32)\n",
    "Y_test = np.load(base_path / 'test_public_labels.npy')\n",
    "\n",
    "classes, counts = np.unique(Y_train, return_counts=True)\n",
    "counts_test = np.unique(Y_test, return_counts=True)[1]\n",
    "\n"
   ]
  },
  {
   "cell_type": "code",
   "execution_count": null,
   "metadata": {},
   "outputs": [],
   "source": [
    "classes_names = [\n",
    "    \"Avoine d'hiver\",\n",
    "    \"Avoine de printemps\",\n",
    "    \"Blé tendre d'hiver\",\n",
    "    \"Blé tendre de printemps\",\n",
    "    \"Colza d'hiver\",\n",
    "    \"Luzerne déshydratée\",\n",
    "    \"Luzerne\",\n",
    "    \"Mélange de légumineuses et graminées\",\n",
    "    \"Maïs\",\n",
    "    \"Maïs ensilage\",\n",
    "    \"Orge d'hiver\",\n",
    "    \"Orge de printemps\",\n",
    "    \"Prairie permanente - herbe\",\n",
    "    \"Prairie permanente - ressources fourragères ligneuses\",\n",
    "    \"Prairie en rotation longue\",\n",
    "    \"Pomme de terre de consommation\",\n",
    "    \"Prairie temporaire\",\n",
    "    \"Soja\",\n",
    "    \"Tournesol\",\n",
    "    \"Triticale d'hiver\"\n",
    "]\n",
    "months = ['Feb', 'Mar', 'Apr', 'May', 'Jun', 'Jul', 'Aug', 'Sep', 'Oct', 'Nov']\n",
    "\n",
    "print(f'Each {X_train.shape[0]} training and {X_test.shape[0]} test samples have :\\n'\n",
    "      f'\\t{X_train.shape[1]} images (one per month from Feb to Nov)\\n'\n",
    "      f'\\t{X_train.shape[2]} channels (B08 Near Infrared, B04 Red, B03 Green)\\n'\n",
    "      f'\\t{X_train.shape[3]} x {X_train.shape[4]} pixels')\n",
    "print(f'X_train shape: {X_train.shape}, Y_train shape: {Y_train.shape}')\n",
    "print(f'X_test shape: {X_test.shape}, Y_test shape: {Y_test.shape}')\n",
    "\n",
    "classes_df = pd.DataFrame({\n",
    "    'Class Name': classes_names,\n",
    "    'N Samples in Train': counts,\n",
    "    'N Samples in Test': counts_test,\n",
    "    'Frequency in Train': counts / counts.sum(),\n",
    "    'Frequency in Test': counts_test / counts_test.sum()\n",
    "},index=classes)\n",
    "\n",
    "classes_df\n",
    "\n"
   ]
  },
  {
   "cell_type": "code",
   "execution_count": null,
   "metadata": {},
   "outputs": [],
   "source": [
    "def display_sample(X, Y, sample, grid_shape=(1, 10), size=2):\n",
    "    x = X[sample].copy()\n",
    "    y = Y[sample].copy()\n",
    "\n",
    "    n_rows, n_cols = grid_shape\n",
    "    n_images = x.shape[0]\n",
    "\n",
    "    fig, axes = plt.subplots(n_rows, n_cols, figsize=(size*n_cols, size*n_rows + 1))\n",
    "    if n_rows == 1:\n",
    "        axes = axes.reshape(1, -1)\n",
    "\n",
    "    img = x.transpose(0, 2, 3, 1)\n",
    "    # Normalize each channel independently\n",
    "    for channel in range(img.shape[-1]):\n",
    "        img_ch = img[..., channel]\n",
    "        img_min = img_ch.min()\n",
    "        img_max = img_ch.max()\n",
    "        img[..., channel] = (img_ch - img_min) / (img_max - img_min)\n",
    "    img = img.clip(0, 1)\n",
    "\n",
    "    for i in range(n_images):\n",
    "        row = i // n_cols\n",
    "        col = i % n_cols\n",
    "        axes[row, col].imshow(img[i])\n",
    "        axes[row, col].axis('off')\n",
    "        axes[row, col].set_title(f'{months[i]}')\n",
    "\n",
    "    # Hide empty subplots if any\n",
    "    for i in range(n_images, n_rows * n_cols):\n",
    "        row = i // n_cols\n",
    "        col = i % n_cols\n",
    "        axes[row, col].axis('off')\n",
    "\n",
    "    fig.suptitle(f'Sample {sample} - Class {classes_names[y]}')\n",
    "    plt.tight_layout()\n",
    "    plt.show()\n",
    "\n",
    "def get_random_sample_of_class(X, Y, class_idx):\n",
    "    \"\"\"Get a random sample from a specific class\"\"\"\n",
    "    class_indices = np.where(Y == class_idx)[0]\n",
    "    random_idx = np.random.choice(class_indices)\n",
    "    return random_idx\n",
    "\n",
    "for i in [get_random_sample_of_class(X_train, Y_train, i//2) for i in range(len(classes)*2)]:\n",
    "    display_sample(X_train, Y_train, i)"
   ]
  }
 ],
 "metadata": {
  "kernelspec": {
   "display_name": ".venv",
   "language": "python",
   "name": "python3"
  },
  "language_info": {
   "codemirror_mode": {
    "name": "ipython",
    "version": 3
   },
   "file_extension": ".py",
   "mimetype": "text/x-python",
   "name": "python",
   "nbconvert_exporter": "python",
   "pygments_lexer": "ipython3",
   "version": "3.13.1"
  }
 },
 "nbformat": 4,
 "nbformat_minor": 2
}
