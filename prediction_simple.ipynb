{
  "cells": [
    {
      "cell_type": "code",
      "execution_count": 1,
      "metadata": {
        "id": "AX9P5N9GwM6I"
      },
      "outputs": [],
      "source": [
        "import pandas as pd\n",
        "import numpy as np\n",
        "import matplotlib.pyplot as plt\n",
        "\n",
        "from pathlib import Path\n",
        "from sklearn.ensemble import RandomForestClassifier\n",
        "from sklearn.metrics import classification_report, confusion_matrix, balanced_accuracy_score, accuracy_score"
      ]
    },
    {
      "cell_type": "code",
      "execution_count": 2,
      "metadata": {
        "colab": {
          "base_uri": "https://localhost:8080/",
          "height": 367
        },
        "id": "JJOI2Ak8wM6J",
        "outputId": "778a3f5f-4d36-4c35-bdd1-2f6d0f021419"
      },
      "outputs": [],
      "source": [
        "base_path = Path('data/')\n",
        "\n",
        "X_train = np.load(base_path / 'train_images.npy').astype(np.float32)\n",
        "Y_train = np.load(base_path / 'train_labels.npy')\n",
        "\n",
        "X_test = np.load(base_path / 'test_public_images.npy').astype(np.float32)\n",
        "Y_test = np.load(base_path / 'test_public_labels.npy')\n",
        "\n",
        "classes, counts = np.unique(Y_train, return_counts=True)\n",
        "counts_test = np.unique(Y_test, return_counts=True)[1]"
      ]
    },
    {
      "cell_type": "code",
      "execution_count": 3,
      "metadata": {
        "colab": {
          "base_uri": "https://localhost:8080/",
          "height": 217
        },
        "id": "XGXhDtTHwM6J",
        "outputId": "757576be-b6ea-408a-929d-93a07d3747c0"
      },
      "outputs": [
        {
          "name": "stdout",
          "output_type": "stream",
          "text": [
            "Each 10000 training and 2500 test samples have :\n",
            "\t10 images (one per month from Feb to Nov)\n",
            "\t3 channels (B08 Near Infrared, B04 Red, B03 Green)\n",
            "\t32 x 32 pixels\n",
            "X_train shape: (10000, 10, 3, 32, 32), Y_train shape: (10000,)\n",
            "X_test shape: (2500, 10, 3, 32, 32), Y_test shape: (2500,)\n"
          ]
        }
      ],
      "source": [
        "classes_names = [\n",
        "    \"Avoine d'hiver\",\n",
        "    \"Avoine de printemps\",\n",
        "    \"Blé tendre d'hiver\",\n",
        "    \"Blé tendre de printemps\",\n",
        "    \"Colza d'hiver\",\n",
        "    \"Luzerne déshydratée\",\n",
        "    \"Luzerne\",\n",
        "    \"Mélange de légumineuses et graminées\",\n",
        "    \"Maïs\",\n",
        "    \"Maïs ensilage\",\n",
        "    \"Orge d'hiver\",\n",
        "    \"Orge de printemps\",\n",
        "    \"Prairie permanente - herbe\",\n",
        "    \"Prairie permanente - ressources fourragères ligneuses\",\n",
        "    \"Prairie en rotation longue\",\n",
        "    \"Pomme de terre de consommation\",\n",
        "    \"Prairie temporaire\",\n",
        "    \"Soja\",\n",
        "    \"Tournesol\",\n",
        "    \"Triticale d'hiver\"\n",
        "]\n",
        "months = ['Feb', 'Mar', 'Apr', 'May', 'Jun', 'Jul', 'Aug', 'Sep', 'Oct', 'Nov']\n",
        "\n",
        "print(f'Each {X_train.shape[0]} training and {X_test.shape[0]} test samples have :\\n'\n",
        "      f'\\t{X_train.shape[1]} images (one per month from Feb to Nov)\\n'\n",
        "      f'\\t{X_train.shape[2]} channels (B08 Near Infrared, B04 Red, B03 Green)\\n'\n",
        "      f'\\t{X_train.shape[3]} x {X_train.shape[4]} pixels')\n",
        "print(f'X_train shape: {X_train.shape}, Y_train shape: {Y_train.shape}')\n",
        "print(f'X_test shape: {X_test.shape}, Y_test shape: {Y_test.shape}')\n",
        "\n",
        "classes_df = pd.DataFrame({\n",
        "    'Class Name': classes_names,\n",
        "    'N Samples in Train': counts,\n",
        "    'N Samples in Test': counts_test,\n",
        "    'Frequency in Train': counts / counts.sum(),\n",
        "    'Frequency in Test': counts_test / counts_test.sum()\n",
        "},index=classes)\n"
      ]
    },
    {
      "cell_type": "code",
      "execution_count": 4,
      "metadata": {
        "colab": {
          "base_uri": "https://localhost:8080/",
          "height": 217
        },
        "id": "hOMaqKyzDfBS",
        "outputId": "cb3f37c1-d90d-4558-83aa-815197f09da1"
      },
      "outputs": [
        {
          "name": "stdout",
          "output_type": "stream",
          "text": [
            "   sample_id  month            R            G            B\n",
            "0          0      0  2815.662109  2280.853271  1920.013916\n",
            "1          0      1  3364.649414  2543.026611  2010.343506\n",
            "2          0      2  3690.846680  2437.498291  1626.443115\n",
            "3          0      3  4328.185059  2770.220215  1770.037842\n",
            "4          0      4  3982.349365  3261.173828  2689.330078\n",
            "   sample_id  month            R            G            B\n",
            "0          0      0  2967.741211  2450.070312  2069.227295\n",
            "1          0      1  4040.710205  3004.723145  2310.290527\n",
            "2          0      2  4199.181641  2742.998047  1798.129150\n",
            "3          0      3  4001.596191  2627.909180  1729.434082\n",
            "4          0      4  3500.541504  2884.736816  2385.992920\n"
          ]
        }
      ],
      "source": [
        "import pandas as pd\n",
        "import numpy as np\n",
        "from scipy.ndimage import gaussian_filter\n",
        "\n",
        "def create_simplified_dataset(X_data):\n",
        "\n",
        "    simplified_data = []\n",
        "    for sample_idx in range(X_data.shape[0]):\n",
        "        for month_idx in range(X_data.shape[1]):\n",
        "            image = X_data[sample_idx, month_idx, :, :, :]\n",
        "            filtered_image = gaussian_filter(image, sigma=1)\n",
        "            avg_rgb = np.mean(filtered_image, axis=(1, 2))\n",
        "            simplified_data.append({\n",
        "              'sample_id':sample_idx,\n",
        "              'month':month_idx,\n",
        "              'R': avg_rgb[0],\n",
        "              'G': avg_rgb[1],\n",
        "              'B': avg_rgb[2]\n",
        "            })\n",
        "\n",
        "    return pd.DataFrame(simplified_data)\n",
        "\n",
        "\n",
        "simplified_train_df = create_simplified_dataset(X_train)\n",
        "print(simplified_train_df.head())\n",
        "\n",
        "simplified_test_df = create_simplified_dataset(X_test)\n",
        "print(simplified_test_df.head())"
      ]
    },
    {
      "cell_type": "code",
      "execution_count": 5,
      "metadata": {
        "id": "gQVnv_xnjBpJ"
      },
      "outputs": [
        {
          "name": "stderr",
          "output_type": "stream",
          "text": [
            "2025-01-12 20:27:32.703133: I external/local_xla/xla/tsl/cuda/cudart_stub.cc:32] Could not find cuda drivers on your machine, GPU will not be used.\n",
            "2025-01-12 20:27:32.796281: I external/local_xla/xla/tsl/cuda/cudart_stub.cc:32] Could not find cuda drivers on your machine, GPU will not be used.\n",
            "2025-01-12 20:27:32.874573: E external/local_xla/xla/stream_executor/cuda/cuda_fft.cc:477] Unable to register cuFFT factory: Attempting to register factory for plugin cuFFT when one has already been registered\n",
            "WARNING: All log messages before absl::InitializeLog() is called are written to STDERR\n",
            "E0000 00:00:1736710052.942121  691367 cuda_dnn.cc:8310] Unable to register cuDNN factory: Attempting to register factory for plugin cuDNN when one has already been registered\n",
            "E0000 00:00:1736710052.963271  691367 cuda_blas.cc:1418] Unable to register cuBLAS factory: Attempting to register factory for plugin cuBLAS when one has already been registered\n",
            "2025-01-12 20:27:33.643556: I tensorflow/core/platform/cpu_feature_guard.cc:210] This TensorFlow binary is optimized to use available CPU instructions in performance-critical operations.\n",
            "To enable the following instructions: AVX2 FMA, in other operations, rebuild TensorFlow with the appropriate compiler flags.\n",
            "/home/adrien/Documents/TPS/2A/ClassiField/.venv/lib/python3.11/site-packages/keras/src/layers/reshaping/flatten.py:37: UserWarning: Do not pass an `input_shape`/`input_dim` argument to a layer. When using Sequential models, prefer using an `Input(shape)` object as the first layer in the model instead.\n",
            "  super().__init__(**kwargs)\n",
            "2025-01-12 20:27:35.985127: E external/local_xla/xla/stream_executor/cuda/cuda_driver.cc:152] failed call to cuInit: INTERNAL: CUDA error: Failed call to cuInit: UNKNOWN ERROR (303)\n"
          ]
        },
        {
          "data": {
            "text/html": [
              "<pre style=\"white-space:pre;overflow-x:auto;line-height:normal;font-family:Menlo,'DejaVu Sans Mono',consolas,'Courier New',monospace\"><span style=\"font-weight: bold\">Model: \"sequential\"</span>\n",
              "</pre>\n"
            ],
            "text/plain": [
              "\u001b[1mModel: \"sequential\"\u001b[0m\n"
            ]
          },
          "metadata": {},
          "output_type": "display_data"
        },
        {
          "data": {
            "text/html": [
              "<pre style=\"white-space:pre;overflow-x:auto;line-height:normal;font-family:Menlo,'DejaVu Sans Mono',consolas,'Courier New',monospace\">┏━━━━━━━━━━━━━━━━━━━━━━━━━━━━━━━━━┳━━━━━━━━━━━━━━━━━━━━━━━━┳━━━━━━━━━━━━━━━┓\n",
              "┃<span style=\"font-weight: bold\"> Layer (type)                    </span>┃<span style=\"font-weight: bold\"> Output Shape           </span>┃<span style=\"font-weight: bold\">       Param # </span>┃\n",
              "┡━━━━━━━━━━━━━━━━━━━━━━━━━━━━━━━━━╇━━━━━━━━━━━━━━━━━━━━━━━━╇━━━━━━━━━━━━━━━┩\n",
              "│ flatten (<span style=\"color: #0087ff; text-decoration-color: #0087ff\">Flatten</span>)               │ (<span style=\"color: #00d7ff; text-decoration-color: #00d7ff\">None</span>, <span style=\"color: #00af00; text-decoration-color: #00af00\">30</span>)             │             <span style=\"color: #00af00; text-decoration-color: #00af00\">0</span> │\n",
              "├─────────────────────────────────┼────────────────────────┼───────────────┤\n",
              "│ dense (<span style=\"color: #0087ff; text-decoration-color: #0087ff\">Dense</span>)                   │ (<span style=\"color: #00d7ff; text-decoration-color: #00d7ff\">None</span>, <span style=\"color: #00af00; text-decoration-color: #00af00\">25</span>)             │           <span style=\"color: #00af00; text-decoration-color: #00af00\">775</span> │\n",
              "├─────────────────────────────────┼────────────────────────┼───────────────┤\n",
              "│ dense_1 (<span style=\"color: #0087ff; text-decoration-color: #0087ff\">Dense</span>)                 │ (<span style=\"color: #00d7ff; text-decoration-color: #00d7ff\">None</span>, <span style=\"color: #00af00; text-decoration-color: #00af00\">20</span>)             │           <span style=\"color: #00af00; text-decoration-color: #00af00\">520</span> │\n",
              "└─────────────────────────────────┴────────────────────────┴───────────────┘\n",
              "</pre>\n"
            ],
            "text/plain": [
              "┏━━━━━━━━━━━━━━━━━━━━━━━━━━━━━━━━━┳━━━━━━━━━━━━━━━━━━━━━━━━┳━━━━━━━━━━━━━━━┓\n",
              "┃\u001b[1m \u001b[0m\u001b[1mLayer (type)                   \u001b[0m\u001b[1m \u001b[0m┃\u001b[1m \u001b[0m\u001b[1mOutput Shape          \u001b[0m\u001b[1m \u001b[0m┃\u001b[1m \u001b[0m\u001b[1m      Param #\u001b[0m\u001b[1m \u001b[0m┃\n",
              "┡━━━━━━━━━━━━━━━━━━━━━━━━━━━━━━━━━╇━━━━━━━━━━━━━━━━━━━━━━━━╇━━━━━━━━━━━━━━━┩\n",
              "│ flatten (\u001b[38;5;33mFlatten\u001b[0m)               │ (\u001b[38;5;45mNone\u001b[0m, \u001b[38;5;34m30\u001b[0m)             │             \u001b[38;5;34m0\u001b[0m │\n",
              "├─────────────────────────────────┼────────────────────────┼───────────────┤\n",
              "│ dense (\u001b[38;5;33mDense\u001b[0m)                   │ (\u001b[38;5;45mNone\u001b[0m, \u001b[38;5;34m25\u001b[0m)             │           \u001b[38;5;34m775\u001b[0m │\n",
              "├─────────────────────────────────┼────────────────────────┼───────────────┤\n",
              "│ dense_1 (\u001b[38;5;33mDense\u001b[0m)                 │ (\u001b[38;5;45mNone\u001b[0m, \u001b[38;5;34m20\u001b[0m)             │           \u001b[38;5;34m520\u001b[0m │\n",
              "└─────────────────────────────────┴────────────────────────┴───────────────┘\n"
            ]
          },
          "metadata": {},
          "output_type": "display_data"
        },
        {
          "data": {
            "text/html": [
              "<pre style=\"white-space:pre;overflow-x:auto;line-height:normal;font-family:Menlo,'DejaVu Sans Mono',consolas,'Courier New',monospace\"><span style=\"font-weight: bold\"> Total params: </span><span style=\"color: #00af00; text-decoration-color: #00af00\">1,295</span> (5.06 KB)\n",
              "</pre>\n"
            ],
            "text/plain": [
              "\u001b[1m Total params: \u001b[0m\u001b[38;5;34m1,295\u001b[0m (5.06 KB)\n"
            ]
          },
          "metadata": {},
          "output_type": "display_data"
        },
        {
          "data": {
            "text/html": [
              "<pre style=\"white-space:pre;overflow-x:auto;line-height:normal;font-family:Menlo,'DejaVu Sans Mono',consolas,'Courier New',monospace\"><span style=\"font-weight: bold\"> Trainable params: </span><span style=\"color: #00af00; text-decoration-color: #00af00\">1,295</span> (5.06 KB)\n",
              "</pre>\n"
            ],
            "text/plain": [
              "\u001b[1m Trainable params: \u001b[0m\u001b[38;5;34m1,295\u001b[0m (5.06 KB)\n"
            ]
          },
          "metadata": {},
          "output_type": "display_data"
        },
        {
          "data": {
            "text/html": [
              "<pre style=\"white-space:pre;overflow-x:auto;line-height:normal;font-family:Menlo,'DejaVu Sans Mono',consolas,'Courier New',monospace\"><span style=\"font-weight: bold\"> Non-trainable params: </span><span style=\"color: #00af00; text-decoration-color: #00af00\">0</span> (0.00 B)\n",
              "</pre>\n"
            ],
            "text/plain": [
              "\u001b[1m Non-trainable params: \u001b[0m\u001b[38;5;34m0\u001b[0m (0.00 B)\n"
            ]
          },
          "metadata": {},
          "output_type": "display_data"
        }
      ],
      "source": [
        "import tensorflow as tf\n",
        "\n",
        "\n",
        "model = tf.keras.models.Sequential([\n",
        "  tf.keras.layers.Flatten(input_shape=(30,)),\n",
        "  tf.keras.layers.Dense(25, activation='leaky_relu'),\n",
        "  tf.keras.layers.Dense(20, activation='softmax')\n",
        "])\n",
        "\n",
        "\n",
        "model.compile(optimizer='adam',\n",
        "              loss='sparse_categorical_crossentropy',\n",
        "              metrics=['accuracy'])\n",
        "\n",
        "\n",
        "model.summary()"
      ]
    },
    {
      "cell_type": "code",
      "execution_count": 6,
      "metadata": {
        "id": "LS9L_deIl62H"
      },
      "outputs": [
        {
          "name": "stdout",
          "output_type": "stream",
          "text": [
            "X_train_nn shape: (10000, 30), Y_train shape: (10000,)\n",
            "Epoch 1/10\n",
            "\u001b[1m313/313\u001b[0m \u001b[32m━━━━━━━━━━━━━━━━━━━━\u001b[0m\u001b[37m\u001b[0m \u001b[1m1s\u001b[0m 696us/step - accuracy: 0.1930 - loss: 973.2152  \n",
            "Epoch 2/10\n",
            "\u001b[1m313/313\u001b[0m \u001b[32m━━━━━━━━━━━━━━━━━━━━\u001b[0m\u001b[37m\u001b[0m \u001b[1m0s\u001b[0m 687us/step - accuracy: 0.4565 - loss: 78.2545\n",
            "Epoch 3/10\n",
            "\u001b[1m313/313\u001b[0m \u001b[32m━━━━━━━━━━━━━━━━━━━━\u001b[0m\u001b[37m\u001b[0m \u001b[1m0s\u001b[0m 726us/step - accuracy: 0.5232 - loss: 51.4224\n",
            "Epoch 4/10\n",
            "\u001b[1m313/313\u001b[0m \u001b[32m━━━━━━━━━━━━━━━━━━━━\u001b[0m\u001b[37m\u001b[0m \u001b[1m0s\u001b[0m 749us/step - accuracy: 0.5528 - loss: 39.0151\n",
            "Epoch 5/10\n",
            "\u001b[1m313/313\u001b[0m \u001b[32m━━━━━━━━━━━━━━━━━━━━\u001b[0m\u001b[37m\u001b[0m \u001b[1m0s\u001b[0m 710us/step - accuracy: 0.5913 - loss: 29.5236\n",
            "Epoch 6/10\n",
            "\u001b[1m313/313\u001b[0m \u001b[32m━━━━━━━━━━━━━━━━━━━━\u001b[0m\u001b[37m\u001b[0m \u001b[1m0s\u001b[0m 679us/step - accuracy: 0.5891 - loss: 27.7729\n",
            "Epoch 7/10\n",
            "\u001b[1m313/313\u001b[0m \u001b[32m━━━━━━━━━━━━━━━━━━━━\u001b[0m\u001b[37m\u001b[0m \u001b[1m0s\u001b[0m 666us/step - accuracy: 0.6199 - loss: 21.2440\n",
            "Epoch 8/10\n",
            "\u001b[1m313/313\u001b[0m \u001b[32m━━━━━━━━━━━━━━━━━━━━\u001b[0m\u001b[37m\u001b[0m \u001b[1m0s\u001b[0m 749us/step - accuracy: 0.6378 - loss: 19.8880\n",
            "Epoch 9/10\n",
            "\u001b[1m313/313\u001b[0m \u001b[32m━━━━━━━━━━━━━━━━━━━━\u001b[0m\u001b[37m\u001b[0m \u001b[1m0s\u001b[0m 694us/step - accuracy: 0.6419 - loss: 17.4406\n",
            "Epoch 10/10\n",
            "\u001b[1m313/313\u001b[0m \u001b[32m━━━━━━━━━━━━━━━━━━━━\u001b[0m\u001b[37m\u001b[0m \u001b[1m0s\u001b[0m 679us/step - accuracy: 0.6551 - loss: 14.3951\n",
            "Test Loss: 30.7626\n",
            "Test Accuracy: 0.5748\n",
            "\u001b[1m79/79\u001b[0m \u001b[32m━━━━━━━━━━━━━━━━━━━━\u001b[0m\u001b[37m\u001b[0m \u001b[1m0s\u001b[0m 689us/step\n",
            "              precision    recall  f1-score   support\n",
            "\n",
            "           0       0.00      0.00      0.00        11\n",
            "           1       0.00      0.00      0.00         4\n",
            "           2       0.62      0.81      0.70       781\n",
            "           3       0.79      0.14      0.24       108\n",
            "           4       0.87      0.84      0.85       225\n",
            "           5       0.83      0.74      0.78        39\n",
            "           6       1.00      0.03      0.05        36\n",
            "           7       0.20      0.65      0.31        84\n",
            "           8       0.32      0.05      0.09       116\n",
            "           9       0.00      0.00      0.00        11\n",
            "          10       0.51      0.67      0.58       265\n",
            "          11       0.48      0.17      0.25       235\n",
            "          12       0.79      0.73      0.76       266\n",
            "          13       0.95      0.51      0.67        41\n",
            "          14       0.00      0.00      0.00        40\n",
            "          15       0.00      0.00      0.00        44\n",
            "          16       0.07      0.16      0.10        25\n",
            "          17       0.02      0.03      0.02        38\n",
            "          18       0.79      0.66      0.72       120\n",
            "          19       0.00      0.00      0.00        11\n",
            "\n",
            "    accuracy                           0.57      2500\n",
            "   macro avg       0.41      0.31      0.31      2500\n",
            "weighted avg       0.59      0.57      0.55      2500\n",
            "\n"
          ]
        },
        {
          "name": "stderr",
          "output_type": "stream",
          "text": [
            "/home/adrien/Documents/TPS/2A/ClassiField/.venv/lib/python3.11/site-packages/sklearn/metrics/_classification.py:1565: UndefinedMetricWarning: Precision is ill-defined and being set to 0.0 in labels with no predicted samples. Use `zero_division` parameter to control this behavior.\n",
            "  _warn_prf(average, modifier, f\"{metric.capitalize()} is\", len(result))\n",
            "/home/adrien/Documents/TPS/2A/ClassiField/.venv/lib/python3.11/site-packages/sklearn/metrics/_classification.py:1565: UndefinedMetricWarning: Precision is ill-defined and being set to 0.0 in labels with no predicted samples. Use `zero_division` parameter to control this behavior.\n",
            "  _warn_prf(average, modifier, f\"{metric.capitalize()} is\", len(result))\n",
            "/home/adrien/Documents/TPS/2A/ClassiField/.venv/lib/python3.11/site-packages/sklearn/metrics/_classification.py:1565: UndefinedMetricWarning: Precision is ill-defined and being set to 0.0 in labels with no predicted samples. Use `zero_division` parameter to control this behavior.\n",
            "  _warn_prf(average, modifier, f\"{metric.capitalize()} is\", len(result))\n"
          ]
        }
      ],
      "source": [
        "X_train_nn = simplified_train_df.drop(columns=['sample_id', 'month']).values.reshape(-1, 10, 3)\n",
        "X_test_nn = simplified_test_df.drop(columns=['sample_id', 'month']).values.reshape(-1, 10, 3)\n",
        "\n",
        "X_train_nn = X_train_nn.reshape(X_train_nn.shape[0], -1)  # Résultat : (10000, 30)\n",
        "X_test_nn = X_test_nn.reshape(X_test_nn.shape[0], -1)\n",
        "\n",
        "print(f'X_train_nn shape: {X_train_nn.shape}, Y_train shape: {Y_train.shape}')\n",
        "\n",
        "model.compile(optimizer='adam', loss='sparse_categorical_crossentropy', metrics=['accuracy'])\n",
        "\n",
        "model.fit(X_train_nn, Y_train, epochs=10)\n",
        "\n",
        "loss, accuracy = model.evaluate(X_test_nn, Y_test, verbose=0)\n",
        "print(f\"Test Loss: {loss:.4f}\")\n",
        "print(f\"Test Accuracy: {accuracy:.4f}\")\n",
        "\n",
        "\n",
        "Y_pred = np.argmax(model.predict(X_test_nn), axis=1)\n",
        "print(classification_report(Y_test, Y_pred))"
      ]
    }
  ],
  "metadata": {
    "colab": {
      "provenance": []
    },
    "kernelspec": {
      "display_name": ".venv",
      "language": "python",
      "name": "python3"
    },
    "language_info": {
      "codemirror_mode": {
        "name": "ipython",
        "version": 3
      },
      "file_extension": ".py",
      "mimetype": "text/x-python",
      "name": "python",
      "nbconvert_exporter": "python",
      "pygments_lexer": "ipython3",
      "version": "3.11.11"
    }
  },
  "nbformat": 4,
  "nbformat_minor": 0
}
